{
 "cells": [
  {
   "cell_type": "code",
   "execution_count": 10,
   "metadata": {},
   "outputs": [],
   "source": [
    "from konlpy.tag import *"
   ]
  },
  {
   "cell_type": "code",
   "execution_count": 2,
   "metadata": {},
   "outputs": [],
   "source": [
    "hannanum = Hannanum()\n",
    "kkma = Kkma()\n",
    "komoran = Komoran()\n",
    "okt = Okt()\n",
    "# mecab = Mecab() 맥에서만 사용가능"
   ]
  },
  {
   "cell_type": "code",
   "execution_count": 3,
   "metadata": {},
   "outputs": [],
   "source": [
    "text = \"오늘은 즐거운 화요일이다. 행복하다.\""
   ]
  },
  {
   "cell_type": "code",
   "execution_count": 4,
   "metadata": {},
   "outputs": [
    {
     "name": "stdout",
     "output_type": "stream",
     "text": [
      "명사 추출 : ['오늘', '화요일']\n",
      "형태소 추출 : ['오늘', '은', '즐거운', '화요일', '이다', '.', '행복하다', '.']\n",
      "품사 추출 : [('오늘', 'Noun'), ('은', 'Josa'), ('즐거운', 'Adjective'), ('화요일', 'Noun'), ('이다', 'Josa'), ('.', 'Punctuation'), ('행복하다', 'Adjective'), ('.', 'Punctuation')]\n"
     ]
    }
   ],
   "source": [
    "print(f\"명사 추출 : {okt.nouns(text)}\")\n",
    "print(f\"형태소 추출 : {okt.morphs(text)}\")\n",
    "print(f\"품사 추출 : {okt.pos(text)}\")"
   ]
  },
  {
   "cell_type": "code",
   "execution_count": 5,
   "metadata": {},
   "outputs": [
    {
     "name": "stdout",
     "output_type": "stream",
     "text": [
      "명사 추출 : ['오늘', '화요일', '행복']\n",
      "형태소 추출 : ['오늘', '은', '즐겁', 'ㄴ', '화요일', '이', '다', '.', '행복', '하', '다', '.']\n",
      "품사 추출 : [('오늘', 'NNG'), ('은', 'JX'), ('즐겁', 'VA'), ('ㄴ', 'ETD'), ('화요일', 'NNG'), ('이', 'VCP'), ('다', 'EFN'), ('.', 'SF'), ('행복', 'NNG'), ('하', 'XSA'), ('다', 'EFN'), ('.', 'SF')]\n"
     ]
    }
   ],
   "source": [
    "print(f\"명사 추출 : {kkma.nouns(text)}\")\n",
    "print(f\"형태소 추출 : {kkma.morphs(text)}\")\n",
    "print(f\"품사 추출 : {kkma.pos(text)}\")"
   ]
  },
  {
   "cell_type": "code",
   "execution_count": 7,
   "metadata": {},
   "outputs": [
    {
     "name": "stdout",
     "output_type": "stream",
     "text": [
      "명사 추출 : ['오늘', '화요일', '행복']\n",
      "형태소 추출 : ['오늘', '은', '즐겁', '은', '화요일', '이', '다', '.', '행복', '하', '다', '.']\n",
      "품사 추출 : [('오늘', 'N'), ('은', 'J'), ('즐겁', 'P'), ('은', 'E'), ('화요일', 'N'), ('이', 'J'), ('다', 'E'), ('.', 'S'), ('행복', 'N'), ('하', 'X'), ('다', 'E'), ('.', 'S')]\n"
     ]
    }
   ],
   "source": [
    "print(f\"명사 추출 : {hannanum.nouns(text)}\")\n",
    "print(f\"형태소 추출 : {hannanum.morphs(text)}\")\n",
    "print(f\"품사 추출 : {hannanum.pos(text)}\")"
   ]
  },
  {
   "cell_type": "code",
   "execution_count": 11,
   "metadata": {},
   "outputs": [
    {
     "ename": "NameError",
     "evalue": "name 'konlpy' is not defined",
     "output_type": "error",
     "traceback": [
      "\u001b[1;31m---------------------------------------------------------------------------\u001b[0m",
      "\u001b[1;31mNameError\u001b[0m                                 Traceback (most recent call last)",
      "\u001b[1;32m<ipython-input-11-123e26b25227>\u001b[0m in \u001b[0;36m<module>\u001b[1;34m\u001b[0m\n\u001b[1;32m----> 1\u001b[1;33m \u001b[0mkonlpy\u001b[0m\u001b[1;33m.\u001b[0m\u001b[0mutils\u001b[0m\u001b[1;33m.\u001b[0m\u001b[0mconcordance\u001b[0m\u001b[1;33m(\u001b[0m\u001b[1;34m\"만나\"\u001b[0m\u001b[1;33m,\u001b[0m \u001b[1;34m\"안녕하세요. 만나서 반가워요\"\u001b[0m\u001b[1;33m)\u001b[0m\u001b[1;33m\u001b[0m\u001b[1;33m\u001b[0m\u001b[0m\n\u001b[0m",
      "\u001b[1;31mNameError\u001b[0m: name 'konlpy' is not defined"
     ]
    }
   ],
   "source": [
    "konlpy.utils.concordance(\"만나\", \"안녕하세요. 만나서 반가워요\")"
   ]
  },
  {
   "cell_type": "code",
   "execution_count": 12,
   "metadata": {},
   "outputs": [
    {
     "name": "stdout",
     "output_type": "stream",
     "text": [
      "''\n"
     ]
    }
   ],
   "source": [
    "char_ogj = u'가'\n",
    "print(f\"''\")"
   ]
  },
  {
   "cell_type": "code",
   "execution_count": 13,
   "metadata": {},
   "outputs": [
    {
     "ename": "NameError",
     "evalue": "name 'konlpy' is not defined",
     "output_type": "error",
     "traceback": [
      "\u001b[1;31m---------------------------------------------------------------------------\u001b[0m",
      "\u001b[1;31mNameError\u001b[0m                                 Traceback (most recent call last)",
      "\u001b[1;32m<ipython-input-13-eac19f60d9f3>\u001b[0m in \u001b[0;36m<module>\u001b[1;34m\u001b[0m\n\u001b[1;32m----> 1\u001b[1;33m \u001b[0mkonlpy\u001b[0m\u001b[1;33m.\u001b[0m\u001b[0mutils\u001b[0m\u001b[1;33m.\u001b[0m\u001b[0mdelete_links\u001b[0m\u001b[1;33m(\u001b[0m\u001b[1;34m\"구글 주소는 https://google.com 입니다.\"\u001b[0m\u001b[1;33m)\u001b[0m\u001b[1;33m\u001b[0m\u001b[1;33m\u001b[0m\u001b[0m\n\u001b[0m",
      "\u001b[1;31mNameError\u001b[0m: name 'konlpy' is not defined"
     ]
    }
   ],
   "source": [
    "konlpy.utils.delete_links(\"구글 주소는 https://google.com 입니다.\")"
   ]
  },
  {
   "cell_type": "code",
   "execution_count": 14,
   "metadata": {},
   "outputs": [
    {
     "ename": "NameError",
     "evalue": "name 'konlpy' is not defined",
     "output_type": "error",
     "traceback": [
      "\u001b[1;31m---------------------------------------------------------------------------\u001b[0m",
      "\u001b[1;31mNameError\u001b[0m                                 Traceback (most recent call last)",
      "\u001b[1;32m<ipython-input-14-ad66513c48ac>\u001b[0m in \u001b[0;36m<module>\u001b[1;34m\u001b[0m\n\u001b[1;32m----> 1\u001b[1;33m \u001b[0mkonlpy\u001b[0m\u001b[1;33m.\u001b[0m\u001b[0mutils\u001b[0m\u001b[1;33m.\u001b[0m\u001b[0mdelete_mentions\u001b[0m\u001b[1;33m(\u001b[0m\u001b[1;34m\"@김철수 뭐라는 거임ㅋㅋㅋㅋ\"\u001b[0m\u001b[1;33m)\u001b[0m\u001b[1;33m\u001b[0m\u001b[1;33m\u001b[0m\u001b[0m\n\u001b[0m",
      "\u001b[1;31mNameError\u001b[0m: name 'konlpy' is not defined"
     ]
    }
   ],
   "source": [
    "konlpy.utils.delete_mentions(\"@김철수 뭐라는 거임ㅋㅋㅋㅋ\")"
   ]
  },
  {
   "cell_type": "code",
   "execution_count": null,
   "metadata": {},
   "outputs": [],
   "source": []
  }
 ],
 "metadata": {
  "kernelspec": {
   "display_name": "Python 3",
   "language": "python",
   "name": "python3"
  },
  "language_info": {
   "codemirror_mode": {
    "name": "ipython",
    "version": 3
   },
   "file_extension": ".py",
   "mimetype": "text/x-python",
   "name": "python",
   "nbconvert_exporter": "python",
   "pygments_lexer": "ipython3",
   "version": "3.7.7"
  }
 },
 "nbformat": 4,
 "nbformat_minor": 4
}
