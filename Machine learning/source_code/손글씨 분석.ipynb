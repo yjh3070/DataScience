{
 "cells": [
  {
   "cell_type": "markdown",
   "metadata": {},
   "source": [
    "### 손글씨 분석"
   ]
  },
  {
   "cell_type": "code",
   "execution_count": 15,
   "metadata": {},
   "outputs": [],
   "source": [
    "import pandas as pd\n",
    "import numpy as np\n",
    "import matplotlib.pyplot as plt\n",
    "from sklearn.linear_model import LogisticRegression\n",
    "import mnist"
   ]
  },
  {
   "cell_type": "code",
   "execution_count": 16,
   "metadata": {},
   "outputs": [],
   "source": [
    "((X_train, y_train), (X_test, y_test)) = mnist.load_mnist()"
   ]
  },
  {
   "cell_type": "code",
   "execution_count": 17,
   "metadata": {},
   "outputs": [
    {
     "data": {
      "text/plain": [
       "((60000, 784), (60000,), (10000, 784), (10000,))"
      ]
     },
     "execution_count": 17,
     "metadata": {},
     "output_type": "execute_result"
    }
   ],
   "source": [
    "X_train.shape, y_train.shape, X_test.shape, y_test.shape"
   ]
  },
  {
   "cell_type": "code",
   "execution_count": 13,
   "metadata": {},
   "outputs": [
    {
     "name": "stderr",
     "output_type": "stream",
     "text": [
      "C:\\Users\\Junghwa\\anaconda3\\envs\\test\\lib\\site-packages\\sklearn\\linear_model\\_logistic.py:764: ConvergenceWarning: lbfgs failed to converge (status=1):\n",
      "STOP: TOTAL NO. of ITERATIONS REACHED LIMIT.\n",
      "\n",
      "Increase the number of iterations (max_iter) or scale the data as shown in:\n",
      "    https://scikit-learn.org/stable/modules/preprocessing.html\n",
      "Please also refer to the documentation for alternative solver options:\n",
      "    https://scikit-learn.org/stable/modules/linear_model.html#logistic-regression\n",
      "  extra_warning_msg=_LOGISTIC_SOLVER_CONVERGENCE_MSG)\n"
     ]
    },
    {
     "name": "stdout",
     "output_type": "stream",
     "text": [
      "훈련 점수 :  0.9321\n",
      "테스트 점수 :  0.9256\n"
     ]
    }
   ],
   "source": [
    "model = LogisticRegression(C=0.1)\n",
    "model.fit(X_train, y_train)\n",
    "print(\"훈련 점수 : \", model.score(X_train, y_train))\n",
    "print(\"테스트 점수 : \", model.score(X_test, y_test))"
   ]
  },
  {
   "cell_type": "markdown",
   "metadata": {},
   "source": [
    "### 모델 저장"
   ]
  },
  {
   "cell_type": "code",
   "execution_count": 18,
   "metadata": {},
   "outputs": [],
   "source": [
    "import joblib"
   ]
  },
  {
   "cell_type": "code",
   "execution_count": 19,
   "metadata": {},
   "outputs": [
    {
     "data": {
      "text/plain": [
       "['model/MNIST_clf.pkl']"
      ]
     },
     "execution_count": 19,
     "metadata": {},
     "output_type": "execute_result"
    }
   ],
   "source": [
    "joblib.dump(model, \"model/MNIST_clf.pkl\")"
   ]
  },
  {
   "cell_type": "markdown",
   "metadata": {},
   "source": [
    "### 모델 로드"
   ]
  },
  {
   "cell_type": "code",
   "execution_count": 20,
   "metadata": {},
   "outputs": [],
   "source": [
    "model_load = joblib.load(\"model/MNIST_clf.pkl\")"
   ]
  },
  {
   "cell_type": "code",
   "execution_count": 21,
   "metadata": {},
   "outputs": [
    {
     "data": {
      "text/plain": [
       "array([7, 2, 1, ..., 4, 5, 6], dtype=uint8)"
      ]
     },
     "execution_count": 21,
     "metadata": {},
     "output_type": "execute_result"
    }
   ],
   "source": [
    "model_load.predict(X_test)"
   ]
  },
  {
   "cell_type": "markdown",
   "metadata": {},
   "source": [
    "### 이미지 1개 읽어오고 예측"
   ]
  },
  {
   "cell_type": "code",
   "execution_count": 22,
   "metadata": {},
   "outputs": [],
   "source": [
    "img = plt.imread(\"image_temp/minst0_0.jpg\")"
   ]
  },
  {
   "cell_type": "code",
   "execution_count": 25,
   "metadata": {},
   "outputs": [
    {
     "data": {
      "text/plain": [
       "0"
      ]
     },
     "execution_count": 25,
     "metadata": {},
     "output_type": "execute_result"
    }
   ],
   "source": [
    "model_load.predict((img/255).reshape(1,-1))[0]"
   ]
  },
  {
   "cell_type": "markdown",
   "metadata": {},
   "source": [
    "### Flask"
   ]
  },
  {
   "cell_type": "code",
   "execution_count": 30,
   "metadata": {},
   "outputs": [
    {
     "name": "stderr",
     "output_type": "stream",
     "text": [
      " * Running on http://localhost:9000/ (Press CTRL+C to quit)\n",
      "127.0.0.1 - - [09/Jul/2020 12:24:34] \"\u001b[32mPOST /mnist HTTP/1.1\u001b[0m\" 302 -\n",
      "[2020-07-09 12:24:34,903] ERROR in app: Exception on /mnist [GET]\n",
      "Traceback (most recent call last):\n",
      "  File \"C:\\Users\\Junghwa\\anaconda3\\envs\\test\\lib\\site-packages\\flask\\app.py\", line 2447, in wsgi_app\n",
      "    response = self.full_dispatch_request()\n",
      "  File \"C:\\Users\\Junghwa\\anaconda3\\envs\\test\\lib\\site-packages\\flask\\app.py\", line 1952, in full_dispatch_request\n",
      "    rv = self.handle_user_exception(e)\n",
      "  File \"C:\\Users\\Junghwa\\anaconda3\\envs\\test\\lib\\site-packages\\flask\\app.py\", line 1821, in handle_user_exception\n",
      "    reraise(exc_type, exc_value, tb)\n",
      "  File \"C:\\Users\\Junghwa\\anaconda3\\envs\\test\\lib\\site-packages\\flask\\_compat.py\", line 39, in reraise\n",
      "    raise value\n",
      "  File \"C:\\Users\\Junghwa\\anaconda3\\envs\\test\\lib\\site-packages\\flask\\app.py\", line 1950, in full_dispatch_request\n",
      "    rv = self.dispatch_request()\n",
      "  File \"C:\\Users\\Junghwa\\anaconda3\\envs\\test\\lib\\site-packages\\flask\\app.py\", line 1936, in dispatch_request\n",
      "    return self.view_functions[rule.endpoint](**req.view_args)\n",
      "  File \"<ipython-input-30-8574da297a07>\", line 18, in mnist\n",
      "    img = plt.imread(fname)\n",
      "UnboundLocalError: local variable 'fname' referenced before assignment\n",
      "127.0.0.1 - - [09/Jul/2020 12:24:34] \"\u001b[35m\u001b[1mGET /mnist HTTP/1.1\u001b[0m\" 500 -\n",
      "127.0.0.1 - - [09/Jul/2020 12:24:50] \"\u001b[32mPOST /mnist HTTP/1.1\u001b[0m\" 302 -\n",
      "127.0.0.1 - - [09/Jul/2020 12:25:45] \"\u001b[32mPOST /mnist HTTP/1.1\u001b[0m\" 302 -\n",
      "127.0.0.1 - - [09/Jul/2020 12:26:02] \"\u001b[32mPOST /mnist HTTP/1.1\u001b[0m\" 302 -\n"
     ]
    }
   ],
   "source": [
    "from flask import Flask, request, redirect\n",
    "from werkzeug import utils, serving\n",
    "import matplotlib.pyplot as plt\n",
    "\n",
    "# 모델 load\n",
    "import joblib\n",
    "model_load = joblib.load(\"model/MNIST_clf.pkl\")\n",
    "\n",
    "# 서버\n",
    "app = Flask(__name__)\n",
    "@app.route(\"/mnist\", methods=[\"GET\", \"POST\"])\n",
    "def mnist():\n",
    "    if request.method == \"POST\" :\n",
    "        f = request.files[\"file\"] # form 태그의 input name 값\n",
    "        fname = \"image_temp/\" + str(utils.secure_filename(f.filename))\n",
    "        # \"image_temp/mnist0_1.jpg\"\n",
    "        f.save(fname)\n",
    "    img = plt.imread(fname)\n",
    "    result = model_load.predict((img/255).reshape(1, -1))[0]\n",
    "    return redirect(\"http://localhost:8090/test/result.jsp?result=\"+str(result))\n",
    "if __name__ == \"__main__\":\n",
    "    serving.run_simple(\"localhost\", 9000, app)"
   ]
  },
  {
   "cell_type": "code",
   "execution_count": null,
   "metadata": {},
   "outputs": [],
   "source": []
  },
  {
   "cell_type": "code",
   "execution_count": null,
   "metadata": {},
   "outputs": [],
   "source": []
  },
  {
   "cell_type": "code",
   "execution_count": null,
   "metadata": {},
   "outputs": [],
   "source": []
  }
 ],
 "metadata": {
  "kernelspec": {
   "display_name": "Python 3",
   "language": "python",
   "name": "python3"
  },
  "language_info": {
   "codemirror_mode": {
    "name": "ipython",
    "version": 3
   },
   "file_extension": ".py",
   "mimetype": "text/x-python",
   "name": "python",
   "nbconvert_exporter": "python",
   "pygments_lexer": "ipython3",
   "version": "3.7.7"
  }
 },
 "nbformat": 4,
 "nbformat_minor": 4
}
