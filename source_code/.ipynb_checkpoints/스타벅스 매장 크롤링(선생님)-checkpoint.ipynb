{
 "cells": [
  {
   "cell_type": "markdown",
   "metadata": {},
   "source": [
    "# 스타벅스 매장 지점명, 주소, 번호 정보 수집"
   ]
  },
  {
   "cell_type": "code",
   "execution_count": 1,
   "metadata": {},
   "outputs": [],
   "source": [
    "from selenium import webdriver as wb\n",
    "from bs4 import BeautifulSoup as bs\n",
    "import time\n",
    "import pandas as pd"
   ]
  },
  {
   "cell_type": "code",
   "execution_count": 2,
   "metadata": {},
   "outputs": [],
   "source": [
    "url = 'http://www.istarbucks.co.kr/store/store_map.do'\n",
    "\n",
    "driver = wb.Chrome()\n",
    "driver.get(url)"
   ]
  },
  {
   "cell_type": "code",
   "execution_count": 3,
   "metadata": {},
   "outputs": [],
   "source": [
    "#지역검색 버튼 클릭\n",
    "btn_search = driver.find_element_by_class_name('loca_search')\n",
    "btn_search.click()"
   ]
  },
  {
   "cell_type": "code",
   "execution_count": 4,
   "metadata": {},
   "outputs": [],
   "source": [
    "#광주지역 클릭\n",
    "li = driver.find_element_by_css_selector('ul.sido_arae_box > li + li + li')\n",
    "li.click()"
   ]
  },
  {
   "cell_type": "code",
   "execution_count": 5,
   "metadata": {},
   "outputs": [],
   "source": [
    "#광주지역에서 전체지역 클릭\n",
    "allArea = driver.find_element_by_css_selector('ul.gugun_arae_box > li')\n",
    "allArea.click()"
   ]
  },
  {
   "cell_type": "code",
   "execution_count": 6,
   "metadata": {},
   "outputs": [],
   "source": [
    "soup = bs(driver.page_source,'html.parser')"
   ]
  },
  {
   "cell_type": "code",
   "execution_count": 7,
   "metadata": {},
   "outputs": [
    {
     "name": "stdout",
     "output_type": "stream",
     "text": [
      "57 57\n"
     ]
    }
   ],
   "source": [
    "#지점명, 주소, 번호 수집\n",
    "name_list = []\n",
    "addr_list = []\n",
    "tel_list = []\n",
    "\n",
    "# names = soup.select('li.quickResultLstCon > strong')\n",
    "names = soup.select('#mCSB_3_container > .quickSearchResultBoxSidoGugun > li > strong')\n",
    "# addrs = soup.findAll('p',class_='result_details')\n",
    "addrs = soup.select('#mCSB_3_container > .quickSearchResultBoxSidoGugun > li > strong + p')\n",
    "print(len(names), len(addrs))\n",
    "\n",
    "for index in range(len(names)):\n",
    "    name_list.append(names[index].text)\n",
    "    addr_list.append(addrs[index].text[:-9])\n",
    "    tel_list.append(addrs[index].text[-9:])\n"
   ]
  },
  {
   "cell_type": "code",
   "execution_count": 8,
   "metadata": {},
   "outputs": [
    {
     "data": {
      "text/html": [
       "<div>\n",
       "<style scoped>\n",
       "    .dataframe tbody tr th:only-of-type {\n",
       "        vertical-align: middle;\n",
       "    }\n",
       "\n",
       "    .dataframe tbody tr th {\n",
       "        vertical-align: top;\n",
       "    }\n",
       "\n",
       "    .dataframe thead th {\n",
       "        text-align: right;\n",
       "    }\n",
       "</style>\n",
       "<table border=\"1\" class=\"dataframe\">\n",
       "  <thead>\n",
       "    <tr style=\"text-align: right;\">\n",
       "      <th></th>\n",
       "      <th>name</th>\n",
       "      <th>address</th>\n",
       "      <th>tel</th>\n",
       "    </tr>\n",
       "  </thead>\n",
       "  <tbody>\n",
       "    <tr>\n",
       "      <th>0</th>\n",
       "      <td>광주운남DT</td>\n",
       "      <td>광주광역시 광산구 임방울대로 156 (운</td>\n",
       "      <td>남동)1522-3232</td>\n",
       "    </tr>\n",
       "    <tr>\n",
       "      <th>1</th>\n",
       "      <td>광주선운DT</td>\n",
       "      <td>광주광역시 광산구 선운로 20번길</td>\n",
       "      <td>63 1522-3232</td>\n",
       "    </tr>\n",
       "    <tr>\n",
       "      <th>2</th>\n",
       "      <td>광주산정DT</td>\n",
       "      <td>광주광역시 광산구 용아로 342 (산</td>\n",
       "      <td>정동)1522-3232</td>\n",
       "    </tr>\n",
       "    <tr>\n",
       "      <th>3</th>\n",
       "      <td>광주흑석DT</td>\n",
       "      <td>광주광역시 광산구 사암로 367 (산</td>\n",
       "      <td>정동)1522-3232</td>\n",
       "    </tr>\n",
       "    <tr>\n",
       "      <th>4</th>\n",
       "      <td>광주송정역</td>\n",
       "      <td>광주광역시 광산구 상무대로205번길 6 (송</td>\n",
       "      <td>정동)1522-3232</td>\n",
       "    </tr>\n",
       "  </tbody>\n",
       "</table>\n",
       "</div>"
      ],
      "text/plain": [
       "       name                   address           tel\n",
       "0  광주운남DT      광주광역시 광산구 임방울대로 156 (운  남동)1522-3232\n",
       "1  광주선운DT         광주광역시 광산구 선운로 20번길   63 1522-3232\n",
       "2  광주산정DT        광주광역시 광산구 용아로 342 (산  정동)1522-3232\n",
       "3  광주흑석DT        광주광역시 광산구 사암로 367 (산  정동)1522-3232\n",
       "4   광주송정역    광주광역시 광산구 상무대로205번길 6 (송  정동)1522-3232"
      ]
     },
     "execution_count": 8,
     "metadata": {},
     "output_type": "execute_result"
    }
   ],
   "source": [
    "dic = {'name':name_list, 'address':addr_list, 'tel':tel_list}\n",
    "df = pd.DataFrame(dic)\n",
    "df.head()"
   ]
  },
  {
   "cell_type": "code",
   "execution_count": null,
   "metadata": {
    "collapsed": true
   },
   "outputs": [],
   "source": []
  }
 ],
 "metadata": {
  "kernelspec": {
   "display_name": "Python 3",
   "language": "python",
   "name": "python3"
  },
  "language_info": {
   "codemirror_mode": {
    "name": "ipython",
    "version": 3
   },
   "file_extension": ".py",
   "mimetype": "text/x-python",
   "name": "python",
   "nbconvert_exporter": "python",
   "pygments_lexer": "ipython3",
   "version": "3.7.7"
  }
 },
 "nbformat": 4,
 "nbformat_minor": 2
}
