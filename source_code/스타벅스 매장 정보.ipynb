{
 "cells": [
  {
   "cell_type": "code",
   "execution_count": 5,
   "metadata": {},
   "outputs": [],
   "source": [
    "from selenium import webdriver as wb\n",
    "from bs4 import BeautifulSoup as bs\n",
    "import pandas as pd\n",
    "import time"
   ]
  },
  {
   "cell_type": "code",
   "execution_count": 105,
   "metadata": {},
   "outputs": [],
   "source": [
    "driver = wb.Chrome()\n",
    "\n",
    "url = \"https://www.starbucks.co.kr/store/store_map.do\"\n",
    "\n",
    "driver.get(url)\n",
    "\n",
    "btn = driver.find_element_by_css_selector('.loca_search h3 a');\n",
    "btn.click()\n",
    "\n",
    "time.sleep(1)\n",
    "\n",
    "btn = driver.find_element_by_css_selector('ul.sido_arae_box li:nth-child(3) > a')\n",
    "btn.click()\n",
    "\n",
    "time.sleep(1)\n",
    "\n",
    "btn = driver.find_element_by_css_selector('ul.gugun_arae_box li:nth-child(1) > a')\n",
    "btn.click()"
   ]
  },
  {
   "cell_type": "code",
   "execution_count": 109,
   "metadata": {},
   "outputs": [
    {
     "name": "stdout",
     "output_type": "stream",
     "text": [
      "57\n"
     ]
    }
   ],
   "source": [
    "soup = bs(driver.page_source, 'html.parser')\n",
    "\n",
    "name_tag_list = soup.select('#mCSB_3_container > ul > li > strong')\n",
    "\n",
    "name_list = []\n",
    "\n",
    "for name in name_tag_list : \n",
    "    name_list.append(name.text)\n",
    "print(len(name_list))"
   ]
  },
  {
   "cell_type": "code",
   "execution_count": 114,
   "metadata": {},
   "outputs": [],
   "source": [
    "address_and_number_tag_list = soup.select('#mCSB_3_container > ul > li > p')\n",
    "\n",
    "address_list = []\n",
    "number_list = []\n",
    "\n",
    "for address_and_number in address_and_number_tag_list : \n",
    "    address_list.append(address_and_number.contents[0].string)\n",
    "    number_list.append(address_and_number.contents[2].string)"
   ]
  },
  {
   "cell_type": "code",
   "execution_count": 115,
   "metadata": {},
   "outputs": [
    {
     "data": {
      "text/html": [
       "<div>\n",
       "<style scoped>\n",
       "    .dataframe tbody tr th:only-of-type {\n",
       "        vertical-align: middle;\n",
       "    }\n",
       "\n",
       "    .dataframe tbody tr th {\n",
       "        vertical-align: top;\n",
       "    }\n",
       "\n",
       "    .dataframe thead th {\n",
       "        text-align: right;\n",
       "    }\n",
       "</style>\n",
       "<table border=\"1\" class=\"dataframe\">\n",
       "  <thead>\n",
       "    <tr style=\"text-align: right;\">\n",
       "      <th></th>\n",
       "      <th>name</th>\n",
       "      <th>address</th>\n",
       "      <th>number</th>\n",
       "    </tr>\n",
       "  </thead>\n",
       "  <tbody>\n",
       "    <tr>\n",
       "      <th>0</th>\n",
       "      <td>광주운남DT</td>\n",
       "      <td>광주광역시 광산구 임방울대로 156 (운남동)</td>\n",
       "      <td>1522-3232</td>\n",
       "    </tr>\n",
       "    <tr>\n",
       "      <th>1</th>\n",
       "      <td>광주선운DT</td>\n",
       "      <td>광주광역시 광산구 선운로 20번길 63</td>\n",
       "      <td>1522-3232</td>\n",
       "    </tr>\n",
       "    <tr>\n",
       "      <th>2</th>\n",
       "      <td>광주산정DT</td>\n",
       "      <td>광주광역시 광산구 용아로 342 (산정동)</td>\n",
       "      <td>1522-3232</td>\n",
       "    </tr>\n",
       "    <tr>\n",
       "      <th>3</th>\n",
       "      <td>광주흑석DT</td>\n",
       "      <td>광주광역시 광산구 사암로 367 (산정동)</td>\n",
       "      <td>1522-3232</td>\n",
       "    </tr>\n",
       "    <tr>\n",
       "      <th>4</th>\n",
       "      <td>광주송정역</td>\n",
       "      <td>광주광역시 광산구 상무대로205번길 6 (송정동)</td>\n",
       "      <td>1522-3232</td>\n",
       "    </tr>\n",
       "  </tbody>\n",
       "</table>\n",
       "</div>"
      ],
      "text/plain": [
       "       name                      address     number\n",
       "0  광주운남DT      광주광역시 광산구 임방울대로 156 (운남동)  1522-3232\n",
       "1  광주선운DT         광주광역시 광산구 선운로 20번길 63   1522-3232\n",
       "2  광주산정DT        광주광역시 광산구 용아로 342 (산정동)  1522-3232\n",
       "3  광주흑석DT        광주광역시 광산구 사암로 367 (산정동)  1522-3232\n",
       "4   광주송정역    광주광역시 광산구 상무대로205번길 6 (송정동)  1522-3232"
      ]
     },
     "execution_count": 115,
     "metadata": {},
     "output_type": "execute_result"
    }
   ],
   "source": [
    "dic = {'name':name_list, 'address':address_list, 'number':number_list}\n",
    "df = pd.DataFrame(dic)\n",
    "df.head()"
   ]
  },
  {
   "cell_type": "code",
   "execution_count": null,
   "metadata": {},
   "outputs": [],
   "source": [
    "df.to_csv('../data/200528 스타벅스 매장 정보.csv', encoding='euc-kr')"
   ]
  }
 ],
 "metadata": {
  "kernelspec": {
   "display_name": "Python 3",
   "language": "python",
   "name": "python3"
  },
  "language_info": {
   "codemirror_mode": {
    "name": "ipython",
    "version": 3
   },
   "file_extension": ".py",
   "mimetype": "text/x-python",
   "name": "python",
   "nbconvert_exporter": "python",
   "pygments_lexer": "ipython3",
   "version": "3.7.6"
  }
 },
 "nbformat": 4,
 "nbformat_minor": 4
}
